{
 "cells": [
  {
   "cell_type": "code",
   "execution_count": 1,
   "metadata": {},
   "outputs": [],
   "source": [
    "import requests\n",
    "from bs4 import BeautifulSoup\n",
    "from selenium import webdriver\n",
    "import os\n",
    "import csv\n",
    "import re\n",
    "from time import sleep"
   ]
  },
  {
   "cell_type": "code",
   "execution_count": 2,
   "metadata": {},
   "outputs": [],
   "source": [
    "def site_login():\n",
    "    \"\"\"\n",
    "    셀레니움을 통해 사이트에 로그인을 한다.\n",
    "    \"\"\"\n",
    "    driver.get (\"http://www.catcare.or.kr/index.php?act=dispMemberLoginForm\")\n",
    "    driver.find_element_by_id(\"uemail\").send_keys(\"snorlax\")\n",
    "    driver.find_element_by_id (\"upw\").send_keys(\"rescuecat1212\")\n",
    "    driver.find_element_by_css_selector(\"#xe_popup2704778 > div.popupcloser > button\").click()\n",
    "    driver.find_element_by_class_name(\"btn_submit\").click()"
   ]
  },
  {
   "cell_type": "code",
   "execution_count": 3,
   "metadata": {},
   "outputs": [],
   "source": [
    "def save_to_csv(data):\n",
    "#최초 생성 시\n",
    "    if os.path.exists(\"./tnr_cat.csv\")==False:\n",
    "        #헤더를 저장한다.\n",
    "        with open (\"./tnr_cat.csv\", \"w\", encoding='utf-8-sig',newline=\"\") as fp:\n",
    "            writer=csv.writer(fp)\n",
    "            writer.writerow([\"no\", \"date\", \"title\", \"author\", \"view\"])\n",
    "        \n",
    "    #데이터 저장\n",
    "    with open(\"./tnr_cat.csv\", 'a', encoding='utf-8-sig',newline=\"\") as fp2:\n",
    "        writer2=csv.writer(fp2)\n",
    "        writer2.writerow(data)"
   ]
  },
  {
   "cell_type": "code",
   "execution_count": 4,
   "metadata": {},
   "outputs": [],
   "source": [
    "#셀레니움 실행\n",
    "driver = webdriver.Chrome(\"./chromedriver.exe\")\n",
    "#로그인한다.\n",
    "site_login()\n",
    "\n",
    "#반복하며 가져오기 위한 변수들을 준비한다.\n",
    "\n",
    "#게시판으로 이동\n",
    "driver.get (\"http://www.catcare.or.kr/index.php?mid=actitnr&category=279\")\n",
    "\n",
    "#게시판의 마지막 페이지\n",
    "last_page=int(driver.find_element_by_xpath(\"//*[@id=\\\"bd_277_0\\\"]/div/form/fieldset/a[11]\").text)\n",
    "\n",
    "#현재 페이지 카운터\n",
    "cur_page=1"
   ]
  },
  {
   "cell_type": "code",
   "execution_count": 5,
   "metadata": {},
   "outputs": [],
   "source": [
    "while True:    \n",
    "    #길냥이사랑 TNR 신청 게시판으로 넘어간다.\n",
    "    driver.get (\"http://www.catcare.or.kr/index.php?mid=actitnr&category=279&page=\"+str(cur_page))\n",
    "    sleep(1)\n",
    "    \n",
    "    #게시판의 총 게시글 수\n",
    "    row_count = len(driver.find_elements_by_xpath(\"//*[@id=\\\"bd_277_0\\\"]/div/table/tbody/tr\"))\n",
    "    \n",
    "    #게시판의 총 공지글 수\n",
    "    notice_count=len(driver.find_elements_by_xpath(\"//*[contains(@class,'notice')]\"))\n",
    "    \n",
    "    #반복문 범위\n",
    "    iter_range=(row_count-notice_count)+2\n",
    "    \n",
    "    #게시판을 파싱한다.\n",
    "    soup=BeautifulSoup(driver.page_source, 'html.parser')\n",
    "    \n",
    "    \n",
    "    if cur_page <= last_page:\n",
    "        for i in range(2,iter_range):\n",
    "            #게시글의 번호            \n",
    "            no=driver.find_element_by_xpath(\"//*[@id=\\\"bd_277_0\\\"]/div/table/tbody/tr[\"+str(i)+\"]/td[1]\").text\n",
    "            #게시글 작성 날짜\n",
    "            date=re.sub(\"\\.\", \"-\",driver.find_element_by_xpath(\"//*[@id=\\\"bd_277_0\\\"]/div/table/tbody/tr[\"+str(i)+\"]/td[5]\").text)\n",
    "            #제목\n",
    "            title=' '.join(re.sub(\"\\W\", \" \", driver.find_element_by_xpath(\"//*[@id=\\\"bd_277_0\\\"]/div/table/tbody/tr[\"+str(i)+\"]/td[3]/a\").text).split())\n",
    "            #글쓴이\n",
    "            author=driver.find_element_by_xpath(\"//*[@id=\\\"bd_277_0\\\"]/div/table/tbody/tr[\"+str(i)+\"]/td[4]/span/a\").text\n",
    "            #조회수\n",
    "            view=driver.find_element_by_xpath(\"//*[@id=\\\"bd_277_0\\\"]/div/table/tbody/tr[\"+str(i)+\"]/td[6]\").text\n",
    "            \n",
    "            #리스트에 담는다.\n",
    "            data_list=[no, date, title, author, view]\n",
    "\n",
    "            save_to_csv(data_list)\n",
    "            \n",
    "        cur_page+=1\n",
    "        \n",
    "    else:\n",
    "        break;\n",
    "driver.close()"
   ]
  }
 ],
 "metadata": {
  "kernelspec": {
   "display_name": "tsg",
   "language": "python",
   "name": "tensorflow_g"
  },
  "language_info": {
   "codemirror_mode": {
    "name": "ipython",
    "version": 3
   },
   "file_extension": ".py",
   "mimetype": "text/x-python",
   "name": "python",
   "nbconvert_exporter": "python",
   "pygments_lexer": "ipython3",
   "version": "3.6.7"
  }
 },
 "nbformat": 4,
 "nbformat_minor": 2
}
