{
 "cells": [
  {
   "cell_type": "code",
   "execution_count": 104,
   "metadata": {},
   "outputs": [],
   "source": [
    "import pandas as pd\n",
    "import matplotlib.pyplot as plt\n",
    "import seaborn as sns\n",
    "%matplotlib inline"
   ]
  },
  {
   "cell_type": "code",
   "execution_count": 105,
   "metadata": {},
   "outputs": [],
   "source": [
    "df=pd.read_csv(\"./tnr_cat.csv\")"
   ]
  },
  {
   "cell_type": "code",
   "execution_count": 106,
   "metadata": {},
   "outputs": [
    {
     "data": {
      "text/plain": [
       "(5404, 5)"
      ]
     },
     "execution_count": 106,
     "metadata": {},
     "output_type": "execute_result"
    }
   ],
   "source": [
    "df.shape"
   ]
  },
  {
   "cell_type": "code",
   "execution_count": 107,
   "metadata": {},
   "outputs": [
    {
     "data": {
      "text/plain": [
       "Index(['no', 'date', 'title', 'author', 'view'], dtype='object')"
      ]
     },
     "execution_count": 107,
     "metadata": {},
     "output_type": "execute_result"
    }
   ],
   "source": [
    "df.columns"
   ]
  },
  {
   "cell_type": "code",
   "execution_count": 108,
   "metadata": {},
   "outputs": [
    {
     "data": {
      "text/html": [
       "<div>\n",
       "<style scoped>\n",
       "    .dataframe tbody tr th:only-of-type {\n",
       "        vertical-align: middle;\n",
       "    }\n",
       "\n",
       "    .dataframe tbody tr th {\n",
       "        vertical-align: top;\n",
       "    }\n",
       "\n",
       "    .dataframe thead th {\n",
       "        text-align: right;\n",
       "    }\n",
       "</style>\n",
       "<table border=\"1\" class=\"dataframe\">\n",
       "  <thead>\n",
       "    <tr style=\"text-align: right;\">\n",
       "      <th></th>\n",
       "      <th>no</th>\n",
       "      <th>date</th>\n",
       "      <th>title</th>\n",
       "      <th>author</th>\n",
       "      <th>view</th>\n",
       "    </tr>\n",
       "  </thead>\n",
       "  <tbody>\n",
       "    <tr>\n",
       "      <th>0</th>\n",
       "      <td>5404</td>\n",
       "      <td>2018-12-17</td>\n",
       "      <td>tne 신청합니다</td>\n",
       "      <td>깡탈</td>\n",
       "      <td>0</td>\n",
       "    </tr>\n",
       "    <tr>\n",
       "      <th>1</th>\n",
       "      <td>5403</td>\n",
       "      <td>2018-12-17</td>\n",
       "      <td>댓글확인요망 1 유석동물병원 tnr 재신청합니다</td>\n",
       "      <td>마산포도</td>\n",
       "      <td>1</td>\n",
       "    </tr>\n",
       "    <tr>\n",
       "      <th>2</th>\n",
       "      <td>5402</td>\n",
       "      <td>2018-12-15</td>\n",
       "      <td>접수 1 유석동물병원 TNR신청합니다</td>\n",
       "      <td>마산포도</td>\n",
       "      <td>1</td>\n",
       "    </tr>\n",
       "    <tr>\n",
       "      <th>3</th>\n",
       "      <td>5401</td>\n",
       "      <td>2018-12-14</td>\n",
       "      <td>접수 2 유석동물병원 TNR신청</td>\n",
       "      <td>허미야</td>\n",
       "      <td>1</td>\n",
       "    </tr>\n",
       "    <tr>\n",
       "      <th>4</th>\n",
       "      <td>5400</td>\n",
       "      <td>2018-12-14</td>\n",
       "      <td>접수 2 목동하니병원에 TNR신청합니다</td>\n",
       "      <td>소심한시민2018</td>\n",
       "      <td>2</td>\n",
       "    </tr>\n",
       "  </tbody>\n",
       "</table>\n",
       "</div>"
      ],
      "text/plain": [
       "     no        date                       title     author  view\n",
       "0  5404  2018-12-17                   tne 신청합니다         깡탈     0\n",
       "1  5403  2018-12-17  댓글확인요망 1 유석동물병원 tnr 재신청합니다       마산포도     1\n",
       "2  5402  2018-12-15        접수 1 유석동물병원 TNR신청합니다       마산포도     1\n",
       "3  5401  2018-12-14           접수 2 유석동물병원 TNR신청        허미야     1\n",
       "4  5400  2018-12-14       접수 2 목동하니병원에 TNR신청합니다  소심한시민2018     2"
      ]
     },
     "execution_count": 108,
     "metadata": {},
     "output_type": "execute_result"
    }
   ],
   "source": [
    "df.head()"
   ]
  },
  {
   "cell_type": "code",
   "execution_count": 109,
   "metadata": {},
   "outputs": [
    {
     "data": {
      "text/html": [
       "<div>\n",
       "<style scoped>\n",
       "    .dataframe tbody tr th:only-of-type {\n",
       "        vertical-align: middle;\n",
       "    }\n",
       "\n",
       "    .dataframe tbody tr th {\n",
       "        vertical-align: top;\n",
       "    }\n",
       "\n",
       "    .dataframe thead th {\n",
       "        text-align: right;\n",
       "    }\n",
       "</style>\n",
       "<table border=\"1\" class=\"dataframe\">\n",
       "  <thead>\n",
       "    <tr style=\"text-align: right;\">\n",
       "      <th></th>\n",
       "      <th>no</th>\n",
       "      <th>date</th>\n",
       "      <th>title</th>\n",
       "      <th>author</th>\n",
       "      <th>view</th>\n",
       "    </tr>\n",
       "  </thead>\n",
       "  <tbody>\n",
       "    <tr>\n",
       "      <th>count</th>\n",
       "      <td>5404.000000</td>\n",
       "      <td>5404</td>\n",
       "      <td>5404</td>\n",
       "      <td>5404</td>\n",
       "      <td>5404.000000</td>\n",
       "    </tr>\n",
       "    <tr>\n",
       "      <th>unique</th>\n",
       "      <td>NaN</td>\n",
       "      <td>2257</td>\n",
       "      <td>4102</td>\n",
       "      <td>1324</td>\n",
       "      <td>NaN</td>\n",
       "    </tr>\n",
       "    <tr>\n",
       "      <th>top</th>\n",
       "      <td>NaN</td>\n",
       "      <td>2018-10-15</td>\n",
       "      <td>화신동물병원 TNR 신청합니다</td>\n",
       "      <td>lian</td>\n",
       "      <td>NaN</td>\n",
       "    </tr>\n",
       "    <tr>\n",
       "      <th>freq</th>\n",
       "      <td>NaN</td>\n",
       "      <td>11</td>\n",
       "      <td>32</td>\n",
       "      <td>101</td>\n",
       "      <td>NaN</td>\n",
       "    </tr>\n",
       "    <tr>\n",
       "      <th>mean</th>\n",
       "      <td>2702.500000</td>\n",
       "      <td>NaN</td>\n",
       "      <td>NaN</td>\n",
       "      <td>NaN</td>\n",
       "      <td>11.622872</td>\n",
       "    </tr>\n",
       "    <tr>\n",
       "      <th>std</th>\n",
       "      <td>1560.144758</td>\n",
       "      <td>NaN</td>\n",
       "      <td>NaN</td>\n",
       "      <td>NaN</td>\n",
       "      <td>13.513023</td>\n",
       "    </tr>\n",
       "    <tr>\n",
       "      <th>min</th>\n",
       "      <td>1.000000</td>\n",
       "      <td>NaN</td>\n",
       "      <td>NaN</td>\n",
       "      <td>NaN</td>\n",
       "      <td>0.000000</td>\n",
       "    </tr>\n",
       "    <tr>\n",
       "      <th>25%</th>\n",
       "      <td>1351.750000</td>\n",
       "      <td>NaN</td>\n",
       "      <td>NaN</td>\n",
       "      <td>NaN</td>\n",
       "      <td>4.000000</td>\n",
       "    </tr>\n",
       "    <tr>\n",
       "      <th>50%</th>\n",
       "      <td>2702.500000</td>\n",
       "      <td>NaN</td>\n",
       "      <td>NaN</td>\n",
       "      <td>NaN</td>\n",
       "      <td>8.000000</td>\n",
       "    </tr>\n",
       "    <tr>\n",
       "      <th>75%</th>\n",
       "      <td>4053.250000</td>\n",
       "      <td>NaN</td>\n",
       "      <td>NaN</td>\n",
       "      <td>NaN</td>\n",
       "      <td>16.000000</td>\n",
       "    </tr>\n",
       "    <tr>\n",
       "      <th>max</th>\n",
       "      <td>5404.000000</td>\n",
       "      <td>NaN</td>\n",
       "      <td>NaN</td>\n",
       "      <td>NaN</td>\n",
       "      <td>532.000000</td>\n",
       "    </tr>\n",
       "  </tbody>\n",
       "</table>\n",
       "</div>"
      ],
      "text/plain": [
       "                 no        date             title author         view\n",
       "count   5404.000000        5404              5404   5404  5404.000000\n",
       "unique          NaN        2257              4102   1324          NaN\n",
       "top             NaN  2018-10-15  화신동물병원 TNR 신청합니다   lian          NaN\n",
       "freq            NaN          11                32    101          NaN\n",
       "mean    2702.500000         NaN               NaN    NaN    11.622872\n",
       "std     1560.144758         NaN               NaN    NaN    13.513023\n",
       "min        1.000000         NaN               NaN    NaN     0.000000\n",
       "25%     1351.750000         NaN               NaN    NaN     4.000000\n",
       "50%     2702.500000         NaN               NaN    NaN     8.000000\n",
       "75%     4053.250000         NaN               NaN    NaN    16.000000\n",
       "max     5404.000000         NaN               NaN    NaN   532.000000"
      ]
     },
     "execution_count": 109,
     "metadata": {},
     "output_type": "execute_result"
    }
   ],
   "source": [
    "df.describe(include=\"all\")"
   ]
  },
  {
   "cell_type": "code",
   "execution_count": 110,
   "metadata": {},
   "outputs": [
    {
     "data": {
      "text/plain": [
       "2018-10-15    11\n",
       "2014-03-04     9\n",
       "2013-03-25     9\n",
       "2017-04-12     9\n",
       "2016-05-20     9\n",
       "2017-09-25     9\n",
       "2018-11-26     9\n",
       "2017-09-08     9\n",
       "2015-08-31     8\n",
       "2016-09-28     8\n",
       "Name: date, dtype: int64"
      ]
     },
     "execution_count": 110,
     "metadata": {},
     "output_type": "execute_result"
    }
   ],
   "source": [
    "#많은 건수가 신청된 날 조회\n",
    "df.date.value_counts().nlargest(10)"
   ]
  },
  {
   "cell_type": "code",
   "execution_count": 111,
   "metadata": {},
   "outputs": [
    {
     "data": {
      "image/png": "[encoded data removed]",
      "text/plain": [
       "<Figure size 432x288 with 1 Axes>"
      ]
     },
     "metadata": {
      "needs_background": "light"
     },
     "output_type": "display_data"
    }
   ],
   "source": [
    "df.date.value_counts().nlargest(10).plot(kind=\"bar\");"
   ]
  },
  {
   "cell_type": "code",
   "execution_count": 112,
   "metadata": {},
   "outputs": [
    {
     "data": {
      "text/plain": [
       "lian          101\n",
       "토실이            67\n",
       "자자두            54\n",
       "발광머리 앤         47\n",
       "까만나비           46\n",
       "아준마 (서울관악)     46\n",
       "채플린            42\n",
       "피자(서울/낙성대)     37\n",
       "솜쟁이            37\n",
       "하니하니           36\n",
       "Name: author, dtype: int64"
      ]
     },
     "execution_count": 112,
     "metadata": {},
     "output_type": "execute_result"
    }
   ],
   "source": [
    "#많은 건수를 신청한 회원 조회\n",
    "df.author.value_counts().nlargest(10)"
   ]
  },
  {
   "cell_type": "code",
   "execution_count": 113,
   "metadata": {},
   "outputs": [
    {
     "data": {
      "image/png": "[encoded data removed]",
      "text/plain": [
       "<Figure size 432x288 with 1 Axes>"
      ]
     },
     "metadata": {
      "needs_background": "light"
     },
     "output_type": "display_data"
    }
   ],
   "source": [
    "df.author.value_counts().nlargest(10).plot(kind=\"bar\");"
   ]
  },
  {
   "cell_type": "code",
   "execution_count": 114,
   "metadata": {},
   "outputs": [
    {
     "data": {
      "text/plain": [
       "1682    532\n",
       "4125    188\n",
       "5141    168\n",
       "5395    126\n",
       "5364    109\n",
       "3275     93\n",
       "5365     91\n",
       "5367     84\n",
       "5394     84\n",
       "5355     83\n",
       "Name: view, dtype: int64"
      ]
     },
     "execution_count": 114,
     "metadata": {},
     "output_type": "execute_result"
    }
   ],
   "source": [
    "df.view.nlargest(10)"
   ]
  },
  {
   "cell_type": "code",
   "execution_count": 115,
   "metadata": {},
   "outputs": [
    {
     "data": {
      "image/png": "[encoded data removed]",
      "text/plain": [
       "<Figure size 432x288 with 1 Axes>"
      ]
     },
     "metadata": {
      "needs_background": "light"
     },
     "output_type": "display_data"
    }
   ],
   "source": [
    "df.view.nlargest(10).plot(kind=\"bar\");"
   ]
  },
  {
   "cell_type": "code",
   "execution_count": 116,
   "metadata": {
    "scrolled": true
   },
   "outputs": [
    {
     "data": {
      "text/plain": [
       "no                  3722\n",
       "date          2016-09-27\n",
       "title     TNR 신청 전 필독 공지\n",
       "author              운영지원\n",
       "view                 532\n",
       "Name: 1682, dtype: object"
      ]
     },
     "execution_count": 116,
     "metadata": {},
     "output_type": "execute_result"
    }
   ],
   "source": [
    "df.iloc[1682]"
   ]
  },
  {
   "cell_type": "code",
   "execution_count": 117,
   "metadata": {},
   "outputs": [
    {
     "data": {
      "text/html": [
       "<div>\n",
       "<style scoped>\n",
       "    .dataframe tbody tr th:only-of-type {\n",
       "        vertical-align: middle;\n",
       "    }\n",
       "\n",
       "    .dataframe tbody tr th {\n",
       "        vertical-align: top;\n",
       "    }\n",
       "\n",
       "    .dataframe thead th {\n",
       "        text-align: right;\n",
       "    }\n",
       "</style>\n",
       "<table border=\"1\" class=\"dataframe\">\n",
       "  <thead>\n",
       "    <tr style=\"text-align: right;\">\n",
       "      <th></th>\n",
       "      <th>no</th>\n",
       "      <th>date</th>\n",
       "      <th>title</th>\n",
       "      <th>author</th>\n",
       "      <th>view</th>\n",
       "    </tr>\n",
       "  </thead>\n",
       "  <tbody>\n",
       "    <tr>\n",
       "      <th>922</th>\n",
       "      <td>4482</td>\n",
       "      <td>2017-09-19</td>\n",
       "      <td>2017 추석 연휴 TNR 안내</td>\n",
       "      <td>운영지원2</td>\n",
       "      <td>58</td>\n",
       "    </tr>\n",
       "    <tr>\n",
       "      <th>1467</th>\n",
       "      <td>3937</td>\n",
       "      <td>2017-01-24</td>\n",
       "      <td>설 연휴 TNR 안내</td>\n",
       "      <td>운영지원</td>\n",
       "      <td>34</td>\n",
       "    </tr>\n",
       "    <tr>\n",
       "      <th>1471</th>\n",
       "      <td>3933</td>\n",
       "      <td>2017-01-18</td>\n",
       "      <td>화신 병원 TNR신청이 재개되었습니다</td>\n",
       "      <td>운영지원</td>\n",
       "      <td>18</td>\n",
       "    </tr>\n",
       "    <tr>\n",
       "      <th>1492</th>\n",
       "      <td>3912</td>\n",
       "      <td>2017-01-03</td>\n",
       "      <td>화신 TNR신청자분들에게 알립니다</td>\n",
       "      <td>운영지원</td>\n",
       "      <td>30</td>\n",
       "    </tr>\n",
       "    <tr>\n",
       "      <th>1682</th>\n",
       "      <td>3722</td>\n",
       "      <td>2016-09-27</td>\n",
       "      <td>TNR 신청 전 필독 공지</td>\n",
       "      <td>운영지원</td>\n",
       "      <td>532</td>\n",
       "    </tr>\n",
       "    <tr>\n",
       "      <th>1717</th>\n",
       "      <td>3687</td>\n",
       "      <td>2016-09-12</td>\n",
       "      <td>TNR 신청 전 필독 공지</td>\n",
       "      <td>운영지원</td>\n",
       "      <td>6</td>\n",
       "    </tr>\n",
       "    <tr>\n",
       "      <th>1722</th>\n",
       "      <td>3682</td>\n",
       "      <td>2016-09-08</td>\n",
       "      <td>안내 추석 연휴 기간 예약 안내</td>\n",
       "      <td>운영지원</td>\n",
       "      <td>43</td>\n",
       "    </tr>\n",
       "    <tr>\n",
       "      <th>1763</th>\n",
       "      <td>3641</td>\n",
       "      <td>2016-08-23</td>\n",
       "      <td>마포W병원 TNR 예약 신청 받지 않습니다</td>\n",
       "      <td>운영지원</td>\n",
       "      <td>24</td>\n",
       "    </tr>\n",
       "    <tr>\n",
       "      <th>1792</th>\n",
       "      <td>3612</td>\n",
       "      <td>2016-07-29</td>\n",
       "      <td>꽃냥이 기간은 6월에 끝났습니다</td>\n",
       "      <td>운영지원</td>\n",
       "      <td>46</td>\n",
       "    </tr>\n",
       "    <tr>\n",
       "      <th>1793</th>\n",
       "      <td>3611</td>\n",
       "      <td>2016-07-28</td>\n",
       "      <td>필독 유석병원 TNR 2016년 9월부터 가능합니다</td>\n",
       "      <td>운영지원</td>\n",
       "      <td>46</td>\n",
       "    </tr>\n",
       "    <tr>\n",
       "      <th>1956</th>\n",
       "      <td>3448</td>\n",
       "      <td>2016-05-19</td>\n",
       "      <td>꽃냥이 신청하는 분들 읽어주세요</td>\n",
       "      <td>운영지원</td>\n",
       "      <td>34</td>\n",
       "    </tr>\n",
       "    <tr>\n",
       "      <th>1971</th>\n",
       "      <td>3433</td>\n",
       "      <td>2016-05-13</td>\n",
       "      <td>접수완료 복돌이 최경숙님 tnr신청</td>\n",
       "      <td>운영지원</td>\n",
       "      <td>1</td>\n",
       "    </tr>\n",
       "    <tr>\n",
       "      <th>3235</th>\n",
       "      <td>2169</td>\n",
       "      <td>2014-03-16</td>\n",
       "      <td>밥주는 암컷 길냥이 애기 수술 신청 합니다 화신동물병원</td>\n",
       "      <td>감자칩[운영위원]</td>\n",
       "      <td>0</td>\n",
       "    </tr>\n",
       "    <tr>\n",
       "      <th>3275</th>\n",
       "      <td>2129</td>\n",
       "      <td>2014-03-03</td>\n",
       "      <td>고보협 꽃냥이 후원 TNR 기간입니다 공지 필독해주세요</td>\n",
       "      <td>감자칩[운영위원]</td>\n",
       "      <td>93</td>\n",
       "    </tr>\n",
       "    <tr>\n",
       "      <th>4001</th>\n",
       "      <td>1403</td>\n",
       "      <td>2013-02-26</td>\n",
       "      <td>유석동물병원 3 12일부터 예약가능합니다 예약꽉찼음 ㅠㅠ</td>\n",
       "      <td>혹채와새치[운영위원]</td>\n",
       "      <td>17</td>\n",
       "    </tr>\n",
       "    <tr>\n",
       "      <th>4800</th>\n",
       "      <td>604</td>\n",
       "      <td>2012-02-06</td>\n",
       "      <td>닉네임 kangdolkim 유석동물병원 tnr신청</td>\n",
       "      <td>혹채와새치[운영위원]</td>\n",
       "      <td>13</td>\n",
       "    </tr>\n",
       "    <tr>\n",
       "      <th>5337</th>\n",
       "      <td>67</td>\n",
       "      <td>2010-09-30</td>\n",
       "      <td>하니동물병원 원장선생님 휴가기간 9 29 10 11까지</td>\n",
       "      <td>감자칩[운영위원]</td>\n",
       "      <td>31</td>\n",
       "    </tr>\n",
       "    <tr>\n",
       "      <th>5369</th>\n",
       "      <td>35</td>\n",
       "      <td>2010-07-17</td>\n",
       "      <td>길고양이 암컷 티앤알 신청합니다 목동하니동물병원</td>\n",
       "      <td>감자칩[운영위원]</td>\n",
       "      <td>63</td>\n",
       "    </tr>\n",
       "    <tr>\n",
       "      <th>5371</th>\n",
       "      <td>33</td>\n",
       "      <td>2010-07-16</td>\n",
       "      <td>길냥이 수컷 미남이 중성화신청합니다 목동하니병원</td>\n",
       "      <td>감자칩[운영위원]</td>\n",
       "      <td>57</td>\n",
       "    </tr>\n",
       "    <tr>\n",
       "      <th>5372</th>\n",
       "      <td>32</td>\n",
       "      <td>2010-07-15</td>\n",
       "      <td>길냥이 암컷 두꺼비 TNR신청 목동 하니병원</td>\n",
       "      <td>감자칩[운영위원]</td>\n",
       "      <td>42</td>\n",
       "    </tr>\n",
       "    <tr>\n",
       "      <th>5391</th>\n",
       "      <td>13</td>\n",
       "      <td>2010-06-22</td>\n",
       "      <td>중성화 암컷 신청 하니동물병원</td>\n",
       "      <td>감자칩[운영위원]</td>\n",
       "      <td>34</td>\n",
       "    </tr>\n",
       "  </tbody>\n",
       "</table>\n",
       "</div>"
      ],
      "text/plain": [
       "        no        date                            title       author  view\n",
       "922   4482  2017-09-19                2017 추석 연휴 TNR 안내        운영지원2    58\n",
       "1467  3937  2017-01-24                      설 연휴 TNR 안내         운영지원    34\n",
       "1471  3933  2017-01-18             화신 병원 TNR신청이 재개되었습니다         운영지원    18\n",
       "1492  3912  2017-01-03               화신 TNR신청자분들에게 알립니다         운영지원    30\n",
       "1682  3722  2016-09-27                   TNR 신청 전 필독 공지         운영지원   532\n",
       "1717  3687  2016-09-12                   TNR 신청 전 필독 공지         운영지원     6\n",
       "1722  3682  2016-09-08                안내 추석 연휴 기간 예약 안내         운영지원    43\n",
       "1763  3641  2016-08-23          마포W병원 TNR 예약 신청 받지 않습니다         운영지원    24\n",
       "1792  3612  2016-07-29                꽃냥이 기간은 6월에 끝났습니다         운영지원    46\n",
       "1793  3611  2016-07-28     필독 유석병원 TNR 2016년 9월부터 가능합니다         운영지원    46\n",
       "1956  3448  2016-05-19                꽃냥이 신청하는 분들 읽어주세요         운영지원    34\n",
       "1971  3433  2016-05-13              접수완료 복돌이 최경숙님 tnr신청         운영지원     1\n",
       "3235  2169  2014-03-16   밥주는 암컷 길냥이 애기 수술 신청 합니다 화신동물병원    감자칩[운영위원]     0\n",
       "3275  2129  2014-03-03   고보협 꽃냥이 후원 TNR 기간입니다 공지 필독해주세요    감자칩[운영위원]    93\n",
       "4001  1403  2013-02-26  유석동물병원 3 12일부터 예약가능합니다 예약꽉찼음 ㅠㅠ  혹채와새치[운영위원]    17\n",
       "4800   604  2012-02-06      닉네임 kangdolkim 유석동물병원 tnr신청  혹채와새치[운영위원]    13\n",
       "5337    67  2010-09-30   하니동물병원 원장선생님 휴가기간 9 29 10 11까지    감자칩[운영위원]    31\n",
       "5369    35  2010-07-17       길고양이 암컷 티앤알 신청합니다 목동하니동물병원    감자칩[운영위원]    63\n",
       "5371    33  2010-07-16       길냥이 수컷 미남이 중성화신청합니다 목동하니병원    감자칩[운영위원]    57\n",
       "5372    32  2010-07-15         길냥이 암컷 두꺼비 TNR신청 목동 하니병원    감자칩[운영위원]    42\n",
       "5391    13  2010-06-22                 중성화 암컷 신청 하니동물병원    감자칩[운영위원]    34"
      ]
     },
     "execution_count": 117,
     "metadata": {},
     "output_type": "execute_result"
    }
   ],
   "source": [
    "#운영진들에 의한 공지성 게시글을 살펴본다.\n",
    "df[df['author'].str.contains(\"운영\")]"
   ]
  },
  {
   "cell_type": "code",
   "execution_count": 118,
   "metadata": {},
   "outputs": [
    {
     "data": {
      "text/plain": [
       "array([4482, 3937, 3933, 3912, 3722, 3687, 3682, 3641, 3612, 3611, 3448,\n",
       "       3433, 2169, 2129, 1403,  604,   67,   35,   33,   32,   13],\n",
       "      dtype=int64)"
      ]
     },
     "execution_count": 118,
     "metadata": {},
     "output_type": "execute_result"
    }
   ],
   "source": [
    "df[df['author'].str.contains(\"운영\")][\"no\"].values"
   ]
  },
  {
   "cell_type": "code",
   "execution_count": 119,
   "metadata": {},
   "outputs": [],
   "source": [
    "notice=[4482, 3937, 3933, 3912, 3722, 3687, 3682, 3641, 3612, 3611, 3448, 2129, 1403, 67]"
   ]
  },
  {
   "cell_type": "code",
   "execution_count": 145,
   "metadata": {},
   "outputs": [],
   "source": [
    "df['date']=pd.to_datetime(df['date'])\n",
    "df_new=df.date.groupby(by=df['date'].dt.date).count().to_frame()"
   ]
  },
  {
   "cell_type": "code",
   "execution_count": 146,
   "metadata": {},
   "outputs": [
    {
     "name": "stdout",
     "output_type": "stream",
     "text": [
      "<class 'pandas.core.frame.DataFrame'>\n",
      "RangeIndex: 5404 entries, 0 to 5403\n",
      "Data columns (total 6 columns):\n",
      "no            5404 non-null int64\n",
      "date          5404 non-null datetime64[ns]\n",
      "title         5404 non-null object\n",
      "author        5404 non-null object\n",
      "view          5404 non-null int64\n",
      "year_month    5404 non-null object\n",
      "dtypes: datetime64[ns](1), int64(2), object(3)\n",
      "memory usage: 253.4+ KB\n"
     ]
    }
   ],
   "source": [
    "df.info()"
   ]
  },
  {
   "cell_type": "code",
   "execution_count": 147,
   "metadata": {},
   "outputs": [],
   "source": [
    "df[\"year_month\"]=pd.to_datetime(df.date).dt.to_period('m')"
   ]
  },
  {
   "cell_type": "code",
   "execution_count": 148,
   "metadata": {},
   "outputs": [
    {
     "data": {
      "image/png": "[encoded data removed]",
      "text/plain": [
       "<Figure size 1440x360 with 1 Axes>"
      ]
     },
     "metadata": {
      "needs_background": "light"
     },
     "output_type": "display_data"
    }
   ],
   "source": [
    "plt.figure(figsize=(20,5))\n",
    "df.year_month.groupby(by=df['year_month']).count().plot();"
   ]
  },
  {
   "cell_type": "code",
   "execution_count": 149,
   "metadata": {},
   "outputs": [],
   "source": [
    "df_new.columns=[\"counts\"]\n",
    "df_new.reset_index(inplace=True)"
   ]
  },
  {
   "cell_type": "code",
   "execution_count": 150,
   "metadata": {},
   "outputs": [],
   "source": [
    "df_new['date'] = pd.to_datetime(df_new['date'], errors='coerce')\n",
    "df_new.set_index('date', inplace=True)"
   ]
  },
  {
   "cell_type": "code",
   "execution_count": 151,
   "metadata": {},
   "outputs": [],
   "source": [
    "df_new=df_new.resample(\"D\").asfreq().fillna(0)"
   ]
  },
  {
   "cell_type": "code",
   "execution_count": 152,
   "metadata": {},
   "outputs": [
    {
     "data": {
      "text/plain": [
       "(3156, 1)"
      ]
     },
     "execution_count": 152,
     "metadata": {},
     "output_type": "execute_result"
    }
   ],
   "source": [
    "df_new.shape"
   ]
  },
  {
   "cell_type": "code",
   "execution_count": 153,
   "metadata": {},
   "outputs": [
    {
     "data": {
      "image/png": "[encoded data removed]",
      "text/plain": [
       "<Figure size 432x288 with 1 Axes>"
      ]
     },
     "metadata": {
      "needs_background": "light"
     },
     "output_type": "display_data"
    }
   ],
   "source": [
    "df_new[:365].plot();"
   ]
  },
  {
   "cell_type": "code",
   "execution_count": 154,
   "metadata": {},
   "outputs": [
    {
     "data": {
      "text/html": [
       "<div>\n",
       "<style scoped>\n",
       "    .dataframe tbody tr th:only-of-type {\n",
       "        vertical-align: middle;\n",
       "    }\n",
       "\n",
       "    .dataframe tbody tr th {\n",
       "        vertical-align: top;\n",
       "    }\n",
       "\n",
       "    .dataframe thead th {\n",
       "        text-align: right;\n",
       "    }\n",
       "</style>\n",
       "<table border=\"1\" class=\"dataframe\">\n",
       "  <thead>\n",
       "    <tr style=\"text-align: right;\">\n",
       "      <th></th>\n",
       "      <th>counts</th>\n",
       "    </tr>\n",
       "    <tr>\n",
       "      <th>date</th>\n",
       "      <th></th>\n",
       "    </tr>\n",
       "  </thead>\n",
       "  <tbody>\n",
       "    <tr>\n",
       "      <th>2010-04-28</th>\n",
       "      <td>1.0</td>\n",
       "    </tr>\n",
       "    <tr>\n",
       "      <th>2010-04-29</th>\n",
       "      <td>0.0</td>\n",
       "    </tr>\n",
       "    <tr>\n",
       "      <th>2010-04-30</th>\n",
       "      <td>0.0</td>\n",
       "    </tr>\n",
       "    <tr>\n",
       "      <th>2010-05-01</th>\n",
       "      <td>0.0</td>\n",
       "    </tr>\n",
       "    <tr>\n",
       "      <th>2010-05-02</th>\n",
       "      <td>0.0</td>\n",
       "    </tr>\n",
       "  </tbody>\n",
       "</table>\n",
       "</div>"
      ],
      "text/plain": [
       "            counts\n",
       "date              \n",
       "2010-04-28     1.0\n",
       "2010-04-29     0.0\n",
       "2010-04-30     0.0\n",
       "2010-05-01     0.0\n",
       "2010-05-02     0.0"
      ]
     },
     "execution_count": 154,
     "metadata": {},
     "output_type": "execute_result"
    }
   ],
   "source": [
    "df_new.head()"
   ]
  },
  {
   "cell_type": "code",
   "execution_count": 155,
   "metadata": {},
   "outputs": [],
   "source": [
    "df_tmp=df_new.reset_index()\n",
    "df_tmp.index = pd.to_datetime(df_tmp['date'])\n",
    "df_target=df_tmp.resample('W').sum()"
   ]
  },
  {
   "cell_type": "code",
   "execution_count": 156,
   "metadata": {},
   "outputs": [
    {
     "data": {
      "text/html": [
       "<div>\n",
       "<style scoped>\n",
       "    .dataframe tbody tr th:only-of-type {\n",
       "        vertical-align: middle;\n",
       "    }\n",
       "\n",
       "    .dataframe tbody tr th {\n",
       "        vertical-align: top;\n",
       "    }\n",
       "\n",
       "    .dataframe thead th {\n",
       "        text-align: right;\n",
       "    }\n",
       "</style>\n",
       "<table border=\"1\" class=\"dataframe\">\n",
       "  <thead>\n",
       "    <tr style=\"text-align: right;\">\n",
       "      <th></th>\n",
       "      <th>counts</th>\n",
       "    </tr>\n",
       "    <tr>\n",
       "      <th>date</th>\n",
       "      <th></th>\n",
       "    </tr>\n",
       "  </thead>\n",
       "  <tbody>\n",
       "    <tr>\n",
       "      <th>2018-11-25</th>\n",
       "      <td>12.0</td>\n",
       "    </tr>\n",
       "    <tr>\n",
       "      <th>2018-12-02</th>\n",
       "      <td>21.0</td>\n",
       "    </tr>\n",
       "    <tr>\n",
       "      <th>2018-12-09</th>\n",
       "      <td>10.0</td>\n",
       "    </tr>\n",
       "    <tr>\n",
       "      <th>2018-12-16</th>\n",
       "      <td>9.0</td>\n",
       "    </tr>\n",
       "    <tr>\n",
       "      <th>2018-12-23</th>\n",
       "      <td>2.0</td>\n",
       "    </tr>\n",
       "  </tbody>\n",
       "</table>\n",
       "</div>"
      ],
      "text/plain": [
       "            counts\n",
       "date              \n",
       "2018-11-25    12.0\n",
       "2018-12-02    21.0\n",
       "2018-12-09    10.0\n",
       "2018-12-16     9.0\n",
       "2018-12-23     2.0"
      ]
     },
     "execution_count": 156,
     "metadata": {},
     "output_type": "execute_result"
    }
   ],
   "source": [
    "df_target.tail()"
   ]
  },
  {
   "cell_type": "code",
   "execution_count": 312,
   "metadata": {},
   "outputs": [],
   "source": [
    "import numpy as np\n",
    "import math\n",
    "from keras.models import Sequential\n",
    "from keras.layers import Dense\n",
    "from keras.layers import LSTM\n",
    "from sklearn.preprocessing import MinMaxScaler\n",
    "from sklearn.metrics import mean_squared_error\n",
    "\n",
    "# fix random seed for reproducibility\n",
    "np.random.seed(523)"
   ]
  },
  {
   "cell_type": "code",
   "execution_count": 313,
   "metadata": {},
   "outputs": [],
   "source": [
    "# convert an array of values into a dataset matrix\n",
    "def create_dataset(dataset, look_back=1):\n",
    "    dataX, dataY = [], []\n",
    "    for i in range(len(dataset)-look_back-1):\n",
    "        a = dataset[i:(i+look_back), 0]\n",
    "        dataX.append(a)\n",
    "        dataY.append(dataset[i + look_back, 0])\n",
    "    return np.array(dataX), np.array(dataY)"
   ]
  },
  {
   "cell_type": "code",
   "execution_count": 314,
   "metadata": {},
   "outputs": [],
   "source": [
    "dataset = df_target.values\n",
    "dataset = dataset.astype('float32')"
   ]
  },
  {
   "cell_type": "code",
   "execution_count": 315,
   "metadata": {},
   "outputs": [
    {
     "data": {
      "text/plain": [
       "array([[1.],\n",
       "       [2.],\n",
       "       [0.],\n",
       "       [0.],\n",
       "       [2.]], dtype=float32)"
      ]
     },
     "execution_count": 315,
     "metadata": {},
     "output_type": "execute_result"
    }
   ],
   "source": [
    "dataset[:5]"
   ]
  },
  {
   "cell_type": "code",
   "execution_count": 316,
   "metadata": {},
   "outputs": [],
   "source": [
    "# normalize the dataset\n",
    "scaler = MinMaxScaler(feature_range=(0, 1))\n",
    "dataset = scaler.fit_transform(dataset)"
   ]
  },
  {
   "cell_type": "code",
   "execution_count": 317,
   "metadata": {},
   "outputs": [],
   "source": [
    "# split into train and test sets\n",
    "train_size = int(len(dataset) * 0.7)\n",
    "test_size = len(dataset) - train_size\n",
    "train, test = dataset[0:train_size,:], dataset[train_size:len(dataset),:]"
   ]
  },
  {
   "cell_type": "code",
   "execution_count": 318,
   "metadata": {},
   "outputs": [],
   "source": [
    "# reshape into X=t and Y=t+3\n",
    "look_back = 3\n",
    "trainX, trainY = create_dataset(train, look_back)\n",
    "testX, testY = create_dataset(test, look_back)"
   ]
  },
  {
   "cell_type": "code",
   "execution_count": 320,
   "metadata": {},
   "outputs": [],
   "source": [
    "# reshape input to be [samples, time steps, features]\n",
    "trainX = np.reshape(trainX, (trainX.shape[0], 1, trainX.shape[1]))\n",
    "testX = np.reshape(testX, (testX.shape[0], 1, testX.shape[1]))"
   ]
  },
  {
   "cell_type": "code",
   "execution_count": 321,
   "metadata": {},
   "outputs": [
    {
     "data": {
      "text/plain": [
       "array([[[0.03125, 0.0625 , 0.     ]],\n",
       "\n",
       "       [[0.0625 , 0.     , 0.     ]],\n",
       "\n",
       "       [[0.     , 0.     , 0.0625 ]],\n",
       "\n",
       "       [[0.     , 0.0625 , 0.125  ]],\n",
       "\n",
       "       [[0.0625 , 0.125  , 0.03125]],\n",
       "\n",
       "       [[0.125  , 0.03125, 0.03125]],\n",
       "\n",
       "       [[0.03125, 0.03125, 0.15625]],\n",
       "\n",
       "       [[0.03125, 0.15625, 0.25   ]],\n",
       "\n",
       "       [[0.15625, 0.25   , 0.09375]],\n",
       "\n",
       "       [[0.25   , 0.09375, 0.25   ]]], dtype=float32)"
      ]
     },
     "execution_count": 321,
     "metadata": {},
     "output_type": "execute_result"
    }
   ],
   "source": [
    "trainX[0:10]"
   ]
  },
  {
   "cell_type": "code",
   "execution_count": 322,
   "metadata": {},
   "outputs": [
    {
     "data": {
      "text/plain": [
       "array([0.     , 0.0625 , 0.125  , 0.03125, 0.03125, 0.15625, 0.25   ,\n",
       "       0.09375, 0.25   , 0.125  ], dtype=float32)"
      ]
     },
     "execution_count": 322,
     "metadata": {},
     "output_type": "execute_result"
    }
   ],
   "source": [
    "trainY[0:10]"
   ]
  },
  {
   "cell_type": "code",
   "execution_count": 323,
   "metadata": {},
   "outputs": [
    {
     "name": "stdout",
     "output_type": "stream",
     "text": [
      "Epoch 1/100\n",
      " - 2s - loss: 0.0729\n",
      "Epoch 2/100\n",
      " - 1s - loss: 0.0252\n",
      "Epoch 3/100\n",
      " - 1s - loss: 0.0229\n",
      "Epoch 4/100\n",
      " - 1s - loss: 0.0216\n",
      "Epoch 5/100\n",
      " - 1s - loss: 0.0206\n",
      "Epoch 6/100\n",
      " - 1s - loss: 0.0200\n",
      "Epoch 7/100\n",
      " - 1s - loss: 0.0195\n",
      "Epoch 8/100\n",
      " - 1s - loss: 0.0193\n",
      "Epoch 9/100\n",
      " - 1s - loss: 0.0193\n",
      "Epoch 10/100\n",
      " - 1s - loss: 0.0189\n",
      "Epoch 11/100\n",
      " - 1s - loss: 0.0188\n",
      "Epoch 12/100\n",
      " - 1s - loss: 0.0190\n",
      "Epoch 13/100\n",
      " - 1s - loss: 0.0189\n",
      "Epoch 14/100\n",
      " - 1s - loss: 0.0187\n",
      "Epoch 15/100\n",
      " - 1s - loss: 0.0186\n",
      "Epoch 16/100\n",
      " - 1s - loss: 0.0188\n",
      "Epoch 17/100\n",
      " - 1s - loss: 0.0185\n",
      "Epoch 18/100\n",
      " - 1s - loss: 0.0186\n",
      "Epoch 19/100\n",
      " - 1s - loss: 0.0185\n",
      "Epoch 20/100\n",
      " - 1s - loss: 0.0185\n",
      "Epoch 21/100\n",
      " - 1s - loss: 0.0184\n",
      "Epoch 22/100\n",
      " - 1s - loss: 0.0184\n",
      "Epoch 23/100\n",
      " - 1s - loss: 0.0185\n",
      "Epoch 24/100\n",
      " - 1s - loss: 0.0184\n",
      "Epoch 25/100\n",
      " - 1s - loss: 0.0186\n",
      "Epoch 26/100\n",
      " - 1s - loss: 0.0187\n",
      "Epoch 27/100\n",
      " - 1s - loss: 0.0183\n",
      "Epoch 28/100\n",
      " - 1s - loss: 0.0185\n",
      "Epoch 29/100\n",
      " - 1s - loss: 0.0184\n",
      "Epoch 30/100\n",
      " - 1s - loss: 0.0183\n",
      "Epoch 31/100\n",
      " - 1s - loss: 0.0183\n",
      "Epoch 32/100\n",
      " - 1s - loss: 0.0184\n",
      "Epoch 33/100\n",
      " - 1s - loss: 0.0184\n",
      "Epoch 34/100\n",
      " - 1s - loss: 0.0181\n",
      "Epoch 35/100\n",
      " - 1s - loss: 0.0182\n",
      "Epoch 36/100\n",
      " - 1s - loss: 0.0183\n",
      "Epoch 37/100\n",
      " - 1s - loss: 0.0182\n",
      "Epoch 38/100\n",
      " - 1s - loss: 0.0184\n",
      "Epoch 39/100\n",
      " - 1s - loss: 0.0183\n",
      "Epoch 40/100\n",
      " - 1s - loss: 0.0182\n",
      "Epoch 41/100\n",
      " - 1s - loss: 0.0182\n",
      "Epoch 42/100\n",
      " - 1s - loss: 0.0182\n",
      "Epoch 43/100\n",
      " - 1s - loss: 0.0184\n",
      "Epoch 44/100\n",
      " - 1s - loss: 0.0183\n",
      "Epoch 45/100\n",
      " - 1s - loss: 0.0183\n",
      "Epoch 46/100\n",
      " - 1s - loss: 0.0184\n",
      "Epoch 47/100\n",
      " - 1s - loss: 0.0184\n",
      "Epoch 48/100\n",
      " - 1s - loss: 0.0185\n",
      "Epoch 49/100\n",
      " - 1s - loss: 0.0183\n",
      "Epoch 50/100\n",
      " - 1s - loss: 0.0183\n",
      "Epoch 51/100\n",
      " - 1s - loss: 0.0182\n",
      "Epoch 52/100\n",
      " - 1s - loss: 0.0179\n",
      "Epoch 53/100\n",
      " - 1s - loss: 0.0182\n",
      "Epoch 54/100\n",
      " - 1s - loss: 0.0183\n",
      "Epoch 55/100\n",
      " - 1s - loss: 0.0181\n",
      "Epoch 56/100\n",
      " - 1s - loss: 0.0183\n",
      "Epoch 57/100\n",
      " - 1s - loss: 0.0184\n",
      "Epoch 58/100\n",
      " - 1s - loss: 0.0182\n",
      "Epoch 59/100\n",
      " - 1s - loss: 0.0181\n",
      "Epoch 60/100\n",
      " - 1s - loss: 0.0182\n",
      "Epoch 61/100\n",
      " - 1s - loss: 0.0183\n",
      "Epoch 62/100\n",
      " - 1s - loss: 0.0181\n",
      "Epoch 63/100\n",
      " - 1s - loss: 0.0182\n",
      "Epoch 64/100\n",
      " - 1s - loss: 0.0183\n",
      "Epoch 65/100\n",
      " - 1s - loss: 0.0183\n",
      "Epoch 66/100\n",
      " - 1s - loss: 0.0183\n",
      "Epoch 67/100\n",
      " - 1s - loss: 0.0181\n",
      "Epoch 68/100\n",
      " - 1s - loss: 0.0182\n",
      "Epoch 69/100\n",
      " - 1s - loss: 0.0182\n",
      "Epoch 70/100\n",
      " - 1s - loss: 0.0182\n",
      "Epoch 71/100\n",
      " - 1s - loss: 0.0181\n",
      "Epoch 72/100\n",
      " - 1s - loss: 0.0182\n",
      "Epoch 73/100\n",
      " - 1s - loss: 0.0181\n",
      "Epoch 74/100\n",
      " - 1s - loss: 0.0180\n",
      "Epoch 75/100\n",
      " - 1s - loss: 0.0185\n",
      "Epoch 76/100\n",
      " - 1s - loss: 0.0183\n",
      "Epoch 77/100\n",
      " - 1s - loss: 0.0184\n",
      "Epoch 78/100\n",
      " - 1s - loss: 0.0181\n",
      "Epoch 79/100\n",
      " - 1s - loss: 0.0183\n",
      "Epoch 80/100\n",
      " - 1s - loss: 0.0183\n",
      "Epoch 81/100\n",
      " - 1s - loss: 0.0182\n",
      "Epoch 82/100\n",
      " - 1s - loss: 0.0183\n",
      "Epoch 83/100\n",
      " - 1s - loss: 0.0182\n",
      "Epoch 84/100\n",
      " - 1s - loss: 0.0181\n",
      "Epoch 85/100\n",
      " - 1s - loss: 0.0185\n",
      "Epoch 86/100\n",
      " - 1s - loss: 0.0181\n",
      "Epoch 87/100\n",
      " - 1s - loss: 0.0183\n",
      "Epoch 88/100\n",
      " - 1s - loss: 0.0183\n",
      "Epoch 89/100\n",
      " - 1s - loss: 0.0182\n",
      "Epoch 90/100\n",
      " - 1s - loss: 0.0182\n",
      "Epoch 91/100\n",
      " - 1s - loss: 0.0184\n",
      "Epoch 92/100\n",
      " - 1s - loss: 0.0183\n",
      "Epoch 93/100\n",
      " - 1s - loss: 0.0183\n",
      "Epoch 94/100\n",
      " - 1s - loss: 0.0182\n",
      "Epoch 95/100\n",
      " - 1s - loss: 0.0183\n",
      "Epoch 96/100\n",
      " - 1s - loss: 0.0182\n",
      "Epoch 97/100\n",
      " - 1s - loss: 0.0182\n",
      "Epoch 98/100\n",
      " - 1s - loss: 0.0181\n",
      "Epoch 99/100\n",
      " - 1s - loss: 0.0182\n",
      "Epoch 100/100\n",
      " - 1s - loss: 0.0182\n"
     ]
    },
    {
     "data": {
      "text/plain": [
       "<keras.callbacks.History at 0x1aab3cd6710>"
      ]
     },
     "execution_count": 323,
     "metadata": {},
     "output_type": "execute_result"
    }
   ],
   "source": [
    "# create and fit the LSTM network\n",
    "model = Sequential()\n",
    "model.add(LSTM(5, input_shape=(1, look_back)))\n",
    "model.add(Dense(1))\n",
    "model.compile(loss='mean_squared_error', optimizer='adam')\n",
    "model.fit(trainX, trainY, epochs=100, batch_size=1, verbose=2)"
   ]
  },
  {
   "cell_type": "code",
   "execution_count": 324,
   "metadata": {},
   "outputs": [],
   "source": [
    "# make predictions\n",
    "trainPredict = model.predict(trainX)\n",
    "testPredict = model.predict(testX)"
   ]
  },
  {
   "cell_type": "code",
   "execution_count": 325,
   "metadata": {},
   "outputs": [],
   "source": [
    "# invert predictions\n",
    "trainPredict = scaler.inverse_transform(trainPredict)\n",
    "trainY = scaler.inverse_transform([trainY])\n",
    "testPredict = scaler.inverse_transform(testPredict)\n",
    "testY = scaler.inverse_transform([testY])"
   ]
  },
  {
   "cell_type": "code",
   "execution_count": 326,
   "metadata": {},
   "outputs": [
    {
     "name": "stdout",
     "output_type": "stream",
     "text": [
      "Train Score: 4.28 RMSE\n",
      "Test Score: 5.34 RMSE\n"
     ]
    }
   ],
   "source": [
    "# calculate root mean squared error\n",
    "trainScore = math.sqrt(mean_squared_error(trainY[0], trainPredict[:,0]))\n",
    "print('Train Score: %.2f RMSE' % (trainScore))\n",
    "testScore = math.sqrt(mean_squared_error(testY[0], testPredict[:,0]))\n",
    "print('Test Score: %.2f RMSE' % (testScore))"
   ]
  },
  {
   "cell_type": "code",
   "execution_count": 327,
   "metadata": {},
   "outputs": [],
   "source": [
    "# shift train predictions for plotting\n",
    "trainPredictPlot = np.empty_like(dataset)\n",
    "trainPredictPlot[:, :] = np.nan\n",
    "trainPredictPlot[look_back:len(trainPredict)+look_back, :] = trainPredict"
   ]
  },
  {
   "cell_type": "code",
   "execution_count": 328,
   "metadata": {},
   "outputs": [],
   "source": [
    "# shift test predictions for plotting\n",
    "testPredictPlot = np.empty_like(dataset)\n",
    "testPredictPlot[:, :] = np.nan\n",
    "testPredictPlot[len(trainPredict)+(look_back*2)+1:len(dataset)-1, :] = testPredict"
   ]
  },
  {
   "cell_type": "code",
   "execution_count": 329,
   "metadata": {
    "scrolled": false
   },
   "outputs": [
    {
     "data": {
      "image/png": "[encoded data removed]",
      "text/plain": [
       "<Figure size 1080x720 with 1 Axes>"
      ]
     },
     "metadata": {
      "needs_background": "light"
     },
     "output_type": "display_data"
    }
   ],
   "source": [
    "# plot baseline and predictions\n",
    "plt.figure(figsize=(15,10))\n",
    "plt.plot(scaler.inverse_transform(dataset)[look_back:len(trainPredict)+look_back:])\n",
    "plt.plot(testPredictPlot)\n",
    "plt.show()"
   ]
  },
  {
   "cell_type": "code",
   "execution_count": 352,
   "metadata": {},
   "outputs": [
    {
     "data": {
      "text/plain": [
       "array([[15.183013],\n",
       "       [16.62941 ],\n",
       "       [13.315774]], dtype=float32)"
      ]
     },
     "execution_count": 352,
     "metadata": {},
     "output_type": "execute_result"
    }
   ],
   "source": [
    "testPredict[-3:]"
   ]
  },
  {
   "cell_type": "code",
   "execution_count": 353,
   "metadata": {},
   "outputs": [
    {
     "data": {
      "text/plain": [
       "array([[21.],\n",
       "       [10.],\n",
       "       [ 9.]])"
      ]
     },
     "execution_count": 353,
     "metadata": {},
     "output_type": "execute_result"
    }
   ],
   "source": [
    "testY.reshape(-1,1)[-3:]"
   ]
  }
 ],
 "metadata": {
  "kernelspec": {
   "display_name": "ts",
   "language": "python",
   "name": "tensorflow"
  },
  "language_info": {
   "codemirror_mode": {
    "name": "ipython",
    "version": 3
   },
   "file_extension": ".py",
   "mimetype": "text/x-python",
   "name": "python",
   "nbconvert_exporter": "python",
   "pygments_lexer": "ipython3",
   "version": "3.5.6"
  }
 },
 "nbformat": 4,
 "nbformat_minor": 2
}
